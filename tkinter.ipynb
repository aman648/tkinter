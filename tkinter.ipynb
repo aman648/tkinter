{
 "cells": [
  {
   "cell_type": "code",
   "execution_count": 1,
   "id": "72e1d634",
   "metadata": {},
   "outputs": [],
   "source": [
    "from tkinter import *"
   ]
  },
  {
   "cell_type": "code",
   "execution_count": 22,
   "id": "36331e75",
   "metadata": {},
   "outputs": [],
   "source": [
    "root=Tk()\n",
    "def myclick():\n",
    "    mylabel=Label(root,text=\"heelo\")\n",
    "    mylabel.pack()\n",
    "mybutton=Button(root,text=\"clickme\",padx=50,command=myclick,fg=\"white\",bg=\"yellow\").pack()\n",
    "\n",
    "root.mainloop()"
   ]
  },
  {
   "cell_type": "code",
   "execution_count": 34,
   "id": "8f7a64b9",
   "metadata": {},
   "outputs": [],
   "source": [
    "root=Tk()\n",
    "e=Entry(root,width=50)\n",
    "e.pack()\n",
    "e.insert(0,\"enter the name\")\n",
    "def clickme():\n",
    "    mylabel=Label(root,text=\"hell0 \"+e.get())\n",
    "    mylabel.pack()\n",
    "\n",
    "\n",
    "\n",
    "\n",
    "\n",
    "utton=Button(root,text=\"click\",command=clickme)\n",
    "utton.pack()\n",
    "\n",
    "\n",
    "    \n",
    "   \n",
    "\n",
    "\n",
    "    \n",
    "\n",
    "\n",
    "\n",
    "root.mainloop()"
   ]
  },
  {
   "cell_type": "code",
   "execution_count": 57,
   "id": "40e58cfc",
   "metadata": {},
   "outputs": [],
   "source": [
    "root=Tk()\n",
    "root.title(\"calculator\")\n",
    "e=Entry(root,width=35,borderwidth=20)\n",
    "e.grid(row=0,column=0,columnspan=3,padx=10,pady=10)\n",
    "\n",
    "def buttonclick(number):\n",
    "    current=e.get()\n",
    "    e.delete(0,END)\n",
    "    e.insert(0,str(current)+str(number))\n",
    "\n",
    "def clear():\n",
    "    e.delete(0,END)\n",
    "\n",
    "def equal():\n",
    "    second=e.get()\n",
    "    e.delete(0,END)\n",
    "    e.insert(0,fnum+int(second))\n",
    "def add():\n",
    "    firstnum=e.get()\n",
    "    global fnum\n",
    "    fnum=int(firstnum)\n",
    "    e.delete(0,END)\n",
    "    \n",
    "    \n",
    "\n",
    "    \n",
    "    \n",
    "button_1=Button(root,text=\"1\",padx=40,pady=40,command=lambda: buttonclick(1))\n",
    "button_2=Button(root,text=\"2\",padx=40,pady=40,command=lambda: buttonclick(2))\n",
    "button_3=Button(root,text=\"3\",padx=40,pady=40,command=lambda: buttonclick(3))\n",
    "button_4=Button(root,text=\"4\",padx=40,pady=40,command=lambda: buttonclick(4))\n",
    "button_5=Button(root,text=\"5\",padx=40,pady=40,command=lambda: buttonclick(5))\n",
    "button_6=Button(root,text=\"6\",padx=40,pady=40,command=lambda: buttonclick(6))\n",
    "button_7=Button(root,text=\"7\",padx=40,pady=40,command=lambda: buttonclick(7))\n",
    "button_8=Button(root,text=\"8\",padx=40,pady=40,command=lambda: buttonclick(8))\n",
    "button_9=Button(root,text=\"9\",padx=40,pady=40,command=lambda: buttonclick(9))\n",
    "button_0=Button(root,text=\"0\",padx=40,pady=40,command=lambda: buttonclick(0))\n",
    "button_add=Button(root,text=\"+\",padx=39,pady=40,command=add)\n",
    "button_equal=Button(root,text=\"=\",padx=40,pady=40,command=equal)\n",
    "button_clear=Button(root,text=\"clear\",padx=40,pady=30,command=clear)\n",
    "\n",
    "button_1.grid(row=3,column=0)\n",
    "button_2.grid(row=3,column=1)\n",
    "button_3.grid(row=3,column=2)\n",
    "button_4.grid(row=2,column=0)\n",
    "button_5.grid(row=2,column=1)\n",
    "button_6.grid(row=2,column=2)\n",
    "button_7.grid(row=1,column=0)\n",
    "button_8.grid(row=1,column=1)\n",
    "button_9.grid(row=1,column=2)\n",
    "button_0.grid(row=4,column=0)\n",
    "button_add.grid(row=4,column=1)\n",
    "button_equal.grid(row=5,column=0)\n",
    "button_clear.grid(row=5,column=1)\n",
    "\n",
    "\n",
    "\n",
    "root.mainloop()"
   ]
  },
  {
   "cell_type": "code",
   "execution_count": null,
   "id": "16c54e71",
   "metadata": {},
   "outputs": [],
   "source": []
  },
  {
   "cell_type": "code",
   "execution_count": null,
   "id": "90e05575",
   "metadata": {},
   "outputs": [],
   "source": []
  }
 ],
 "metadata": {
  "kernelspec": {
   "display_name": "Python 3 (ipykernel)",
   "language": "python",
   "name": "python3"
  },
  "language_info": {
   "codemirror_mode": {
    "name": "ipython",
    "version": 3
   },
   "file_extension": ".py",
   "mimetype": "text/x-python",
   "name": "python",
   "nbconvert_exporter": "python",
   "pygments_lexer": "ipython3",
   "version": "3.9.4"
  }
 },
 "nbformat": 4,
 "nbformat_minor": 5
}
